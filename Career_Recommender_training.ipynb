{
  "cells": [
    {
      "cell_type": "code",
      "execution_count": 70,
      "metadata": {
        "id": "rpbCyXz_hm3e"
      },
      "outputs": [],
      "source": [
        "import numpy as np\n",
        "import pandas as pd\n",
        "from sklearn.ensemble import RandomForestClassifier\n",
        "from sklearn.preprocessing import LabelEncoder, StandardScaler\n",
        "from sklearn.model_selection import train_test_split\n",
        "from sklearn.metrics import accuracy_score, classification_report, confusion_matrix\n",
        "from sklearn.metrics import mean_squared_error\n",
        "import warnings\n",
        "warnings.filterwarnings(\"ignore\")"
      ]
    },
    {
      "cell_type": "code",
      "execution_count": 48,
      "metadata": {
        "colab": {
          "base_uri": "https://localhost:8080/"
        },
        "id": "D96A_KAEhgy9",
        "outputId": "fc77f428-3ae3-44dd-a1b7-97161f7dac60"
      },
      "outputs": [
        {
          "data": {
            "text/plain": [
              "(2000, 17)"
            ]
          },
          "execution_count": 48,
          "metadata": {},
          "output_type": "execute_result"
        }
      ],
      "source": [
        "Dataframe =  pd.read_csv(\"student-scores.csv\")\n",
        "Dataframe.shape"
      ]
    },
    {
      "cell_type": "code",
      "execution_count": 49,
      "metadata": {
        "colab": {
          "base_uri": "https://localhost:8080/"
        },
        "id": "xHrTXnVRip2m",
        "outputId": "ccbb1fe6-faed-49b2-9b24-7ab0020a8aac"
      },
      "outputs": [
        {
          "data": {
            "text/plain": [
              "0"
            ]
          },
          "execution_count": 49,
          "metadata": {},
          "output_type": "execute_result"
        }
      ],
      "source": [
        "Dataframe.duplicated().sum()"
      ]
    },
    {
      "cell_type": "code",
      "execution_count": 50,
      "metadata": {
        "colab": {
          "base_uri": "https://localhost:8080/"
        },
        "id": "gdW3NYitiNxL",
        "outputId": "87fcee81-3c26-4894-a7b3-d582fdca820f"
      },
      "outputs": [
        {
          "data": {
            "text/plain": [
              "id                            0\n",
              "first_name                    0\n",
              "last_name                     0\n",
              "email                         0\n",
              "gender                        0\n",
              "part_time_job                 0\n",
              "absence_days                  0\n",
              "extracurricular_activities    0\n",
              "weekly_self_study_hours       0\n",
              "career_aspiration             0\n",
              "math_score                    0\n",
              "history_score                 0\n",
              "physics_score                 0\n",
              "chemistry_score               0\n",
              "biology_score                 0\n",
              "english_score                 0\n",
              "geography_score               0\n",
              "dtype: int64"
            ]
          },
          "execution_count": 50,
          "metadata": {},
          "output_type": "execute_result"
        }
      ],
      "source": [
        "Dataframe.isna().sum()\n"
      ]
    },
    {
      "cell_type": "code",
      "execution_count": 51,
      "metadata": {
        "colab": {
          "base_uri": "https://localhost:8080/"
        },
        "id": "YpdI_bPNi4um",
        "outputId": "2770c2fa-2987-40ed-8974-5fe70afce651"
      },
      "outputs": [
        {
          "data": {
            "text/plain": [
              "Index(['first_name', 'last_name', 'email', 'gender', 'career_aspiration'], dtype='object')"
            ]
          },
          "execution_count": 51,
          "metadata": {},
          "output_type": "execute_result"
        }
      ],
      "source": [
        "cat_cols = Dataframe.select_dtypes(include='object').columns\n",
        "cat_cols"
      ]
    },
    {
      "cell_type": "code",
      "execution_count": 52,
      "metadata": {
        "colab": {
          "base_uri": "https://localhost:8080/",
          "height": 461
        },
        "id": "Nsq-ML_-jJkX",
        "outputId": "e147d10c-0bc7-4cda-a90c-8376925479de"
      },
      "outputs": [
        {
          "data": {
            "text/html": [
              "<div>\n",
              "<style scoped>\n",
              "    .dataframe tbody tr th:only-of-type {\n",
              "        vertical-align: middle;\n",
              "    }\n",
              "\n",
              "    .dataframe tbody tr th {\n",
              "        vertical-align: top;\n",
              "    }\n",
              "\n",
              "    .dataframe thead th {\n",
              "        text-align: right;\n",
              "    }\n",
              "</style>\n",
              "<table border=\"1\" class=\"dataframe\">\n",
              "  <thead>\n",
              "    <tr style=\"text-align: right;\">\n",
              "      <th></th>\n",
              "      <th>gender</th>\n",
              "      <th>part_time_job</th>\n",
              "      <th>absence_days</th>\n",
              "      <th>extracurricular_activities</th>\n",
              "      <th>weekly_self_study_hours</th>\n",
              "      <th>career_aspiration</th>\n",
              "      <th>math_score</th>\n",
              "      <th>history_score</th>\n",
              "      <th>physics_score</th>\n",
              "      <th>chemistry_score</th>\n",
              "      <th>biology_score</th>\n",
              "      <th>english_score</th>\n",
              "      <th>geography_score</th>\n",
              "    </tr>\n",
              "  </thead>\n",
              "  <tbody>\n",
              "    <tr>\n",
              "      <th>0</th>\n",
              "      <td>male</td>\n",
              "      <td>False</td>\n",
              "      <td>3</td>\n",
              "      <td>False</td>\n",
              "      <td>27</td>\n",
              "      <td>Lawyer</td>\n",
              "      <td>73</td>\n",
              "      <td>81</td>\n",
              "      <td>93</td>\n",
              "      <td>97</td>\n",
              "      <td>63</td>\n",
              "      <td>80</td>\n",
              "      <td>87</td>\n",
              "    </tr>\n",
              "    <tr>\n",
              "      <th>1</th>\n",
              "      <td>female</td>\n",
              "      <td>False</td>\n",
              "      <td>2</td>\n",
              "      <td>False</td>\n",
              "      <td>47</td>\n",
              "      <td>Doctor</td>\n",
              "      <td>90</td>\n",
              "      <td>86</td>\n",
              "      <td>96</td>\n",
              "      <td>100</td>\n",
              "      <td>90</td>\n",
              "      <td>88</td>\n",
              "      <td>90</td>\n",
              "    </tr>\n",
              "    <tr>\n",
              "      <th>2</th>\n",
              "      <td>female</td>\n",
              "      <td>False</td>\n",
              "      <td>9</td>\n",
              "      <td>True</td>\n",
              "      <td>13</td>\n",
              "      <td>Government Officer</td>\n",
              "      <td>81</td>\n",
              "      <td>97</td>\n",
              "      <td>95</td>\n",
              "      <td>96</td>\n",
              "      <td>65</td>\n",
              "      <td>77</td>\n",
              "      <td>94</td>\n",
              "    </tr>\n",
              "    <tr>\n",
              "      <th>3</th>\n",
              "      <td>female</td>\n",
              "      <td>False</td>\n",
              "      <td>5</td>\n",
              "      <td>False</td>\n",
              "      <td>3</td>\n",
              "      <td>Artist</td>\n",
              "      <td>71</td>\n",
              "      <td>74</td>\n",
              "      <td>88</td>\n",
              "      <td>80</td>\n",
              "      <td>89</td>\n",
              "      <td>63</td>\n",
              "      <td>86</td>\n",
              "    </tr>\n",
              "    <tr>\n",
              "      <th>4</th>\n",
              "      <td>male</td>\n",
              "      <td>False</td>\n",
              "      <td>5</td>\n",
              "      <td>False</td>\n",
              "      <td>10</td>\n",
              "      <td>Unknown</td>\n",
              "      <td>84</td>\n",
              "      <td>77</td>\n",
              "      <td>65</td>\n",
              "      <td>65</td>\n",
              "      <td>80</td>\n",
              "      <td>74</td>\n",
              "      <td>76</td>\n",
              "    </tr>\n",
              "    <tr>\n",
              "      <th>...</th>\n",
              "      <td>...</td>\n",
              "      <td>...</td>\n",
              "      <td>...</td>\n",
              "      <td>...</td>\n",
              "      <td>...</td>\n",
              "      <td>...</td>\n",
              "      <td>...</td>\n",
              "      <td>...</td>\n",
              "      <td>...</td>\n",
              "      <td>...</td>\n",
              "      <td>...</td>\n",
              "      <td>...</td>\n",
              "      <td>...</td>\n",
              "    </tr>\n",
              "    <tr>\n",
              "      <th>1995</th>\n",
              "      <td>male</td>\n",
              "      <td>False</td>\n",
              "      <td>2</td>\n",
              "      <td>False</td>\n",
              "      <td>30</td>\n",
              "      <td>Construction Engineer</td>\n",
              "      <td>83</td>\n",
              "      <td>77</td>\n",
              "      <td>84</td>\n",
              "      <td>73</td>\n",
              "      <td>75</td>\n",
              "      <td>84</td>\n",
              "      <td>82</td>\n",
              "    </tr>\n",
              "    <tr>\n",
              "      <th>1996</th>\n",
              "      <td>male</td>\n",
              "      <td>False</td>\n",
              "      <td>2</td>\n",
              "      <td>False</td>\n",
              "      <td>20</td>\n",
              "      <td>Software Engineer</td>\n",
              "      <td>89</td>\n",
              "      <td>65</td>\n",
              "      <td>73</td>\n",
              "      <td>80</td>\n",
              "      <td>87</td>\n",
              "      <td>67</td>\n",
              "      <td>73</td>\n",
              "    </tr>\n",
              "    <tr>\n",
              "      <th>1997</th>\n",
              "      <td>female</td>\n",
              "      <td>False</td>\n",
              "      <td>5</td>\n",
              "      <td>False</td>\n",
              "      <td>14</td>\n",
              "      <td>Software Engineer</td>\n",
              "      <td>97</td>\n",
              "      <td>85</td>\n",
              "      <td>63</td>\n",
              "      <td>93</td>\n",
              "      <td>68</td>\n",
              "      <td>94</td>\n",
              "      <td>78</td>\n",
              "    </tr>\n",
              "    <tr>\n",
              "      <th>1998</th>\n",
              "      <td>female</td>\n",
              "      <td>True</td>\n",
              "      <td>10</td>\n",
              "      <td>True</td>\n",
              "      <td>5</td>\n",
              "      <td>Business Owner</td>\n",
              "      <td>51</td>\n",
              "      <td>96</td>\n",
              "      <td>72</td>\n",
              "      <td>89</td>\n",
              "      <td>95</td>\n",
              "      <td>88</td>\n",
              "      <td>75</td>\n",
              "    </tr>\n",
              "    <tr>\n",
              "      <th>1999</th>\n",
              "      <td>female</td>\n",
              "      <td>False</td>\n",
              "      <td>5</td>\n",
              "      <td>False</td>\n",
              "      <td>27</td>\n",
              "      <td>Accountant</td>\n",
              "      <td>82</td>\n",
              "      <td>99</td>\n",
              "      <td>91</td>\n",
              "      <td>69</td>\n",
              "      <td>83</td>\n",
              "      <td>93</td>\n",
              "      <td>100</td>\n",
              "    </tr>\n",
              "  </tbody>\n",
              "</table>\n",
              "<p>2000 rows × 13 columns</p>\n",
              "</div>"
            ],
            "text/plain": [
              "      gender  part_time_job  absence_days  extracurricular_activities  \\\n",
              "0       male          False             3                       False   \n",
              "1     female          False             2                       False   \n",
              "2     female          False             9                        True   \n",
              "3     female          False             5                       False   \n",
              "4       male          False             5                       False   \n",
              "...      ...            ...           ...                         ...   \n",
              "1995    male          False             2                       False   \n",
              "1996    male          False             2                       False   \n",
              "1997  female          False             5                       False   \n",
              "1998  female           True            10                        True   \n",
              "1999  female          False             5                       False   \n",
              "\n",
              "      weekly_self_study_hours      career_aspiration  math_score  \\\n",
              "0                          27                 Lawyer          73   \n",
              "1                          47                 Doctor          90   \n",
              "2                          13     Government Officer          81   \n",
              "3                           3                 Artist          71   \n",
              "4                          10                Unknown          84   \n",
              "...                       ...                    ...         ...   \n",
              "1995                       30  Construction Engineer          83   \n",
              "1996                       20      Software Engineer          89   \n",
              "1997                       14      Software Engineer          97   \n",
              "1998                        5         Business Owner          51   \n",
              "1999                       27             Accountant          82   \n",
              "\n",
              "      history_score  physics_score  chemistry_score  biology_score  \\\n",
              "0                81             93               97             63   \n",
              "1                86             96              100             90   \n",
              "2                97             95               96             65   \n",
              "3                74             88               80             89   \n",
              "4                77             65               65             80   \n",
              "...             ...            ...              ...            ...   \n",
              "1995             77             84               73             75   \n",
              "1996             65             73               80             87   \n",
              "1997             85             63               93             68   \n",
              "1998             96             72               89             95   \n",
              "1999             99             91               69             83   \n",
              "\n",
              "      english_score  geography_score  \n",
              "0                80               87  \n",
              "1                88               90  \n",
              "2                77               94  \n",
              "3                63               86  \n",
              "4                74               76  \n",
              "...             ...              ...  \n",
              "1995             84               82  \n",
              "1996             67               73  \n",
              "1997             94               78  \n",
              "1998             88               75  \n",
              "1999             93              100  \n",
              "\n",
              "[2000 rows x 13 columns]"
            ]
          },
          "execution_count": 52,
          "metadata": {},
          "output_type": "execute_result"
        }
      ],
      "source": [
        "Dataframe=Dataframe.drop(columns=['first_name','last_name','email','id'])\n",
        "Dataframe"
      ]
    },
    {
      "cell_type": "code",
      "execution_count": 53,
      "metadata": {
        "colab": {
          "base_uri": "https://localhost:8080/",
          "height": 226
        },
        "id": "IM6ly9-iji0g",
        "outputId": "919b4597-81f1-4ab8-e6f2-9b52533225f6"
      },
      "outputs": [
        {
          "data": {
            "text/html": [
              "<div>\n",
              "<style scoped>\n",
              "    .dataframe tbody tr th:only-of-type {\n",
              "        vertical-align: middle;\n",
              "    }\n",
              "\n",
              "    .dataframe tbody tr th {\n",
              "        vertical-align: top;\n",
              "    }\n",
              "\n",
              "    .dataframe thead th {\n",
              "        text-align: right;\n",
              "    }\n",
              "</style>\n",
              "<table border=\"1\" class=\"dataframe\">\n",
              "  <thead>\n",
              "    <tr style=\"text-align: right;\">\n",
              "      <th></th>\n",
              "      <th>gender</th>\n",
              "      <th>part_time_job</th>\n",
              "      <th>absence_days</th>\n",
              "      <th>extracurricular_activities</th>\n",
              "      <th>weekly_self_study_hours</th>\n",
              "      <th>career_aspiration</th>\n",
              "      <th>math_score</th>\n",
              "      <th>history_score</th>\n",
              "      <th>physics_score</th>\n",
              "      <th>chemistry_score</th>\n",
              "      <th>biology_score</th>\n",
              "      <th>english_score</th>\n",
              "      <th>geography_score</th>\n",
              "      <th>total_score</th>\n",
              "      <th>average_score</th>\n",
              "    </tr>\n",
              "  </thead>\n",
              "  <tbody>\n",
              "    <tr>\n",
              "      <th>0</th>\n",
              "      <td>male</td>\n",
              "      <td>False</td>\n",
              "      <td>3</td>\n",
              "      <td>False</td>\n",
              "      <td>27</td>\n",
              "      <td>Lawyer</td>\n",
              "      <td>73</td>\n",
              "      <td>81</td>\n",
              "      <td>93</td>\n",
              "      <td>97</td>\n",
              "      <td>63</td>\n",
              "      <td>80</td>\n",
              "      <td>87</td>\n",
              "      <td>574</td>\n",
              "      <td>82.000000</td>\n",
              "    </tr>\n",
              "    <tr>\n",
              "      <th>1</th>\n",
              "      <td>female</td>\n",
              "      <td>False</td>\n",
              "      <td>2</td>\n",
              "      <td>False</td>\n",
              "      <td>47</td>\n",
              "      <td>Doctor</td>\n",
              "      <td>90</td>\n",
              "      <td>86</td>\n",
              "      <td>96</td>\n",
              "      <td>100</td>\n",
              "      <td>90</td>\n",
              "      <td>88</td>\n",
              "      <td>90</td>\n",
              "      <td>640</td>\n",
              "      <td>91.428571</td>\n",
              "    </tr>\n",
              "    <tr>\n",
              "      <th>2</th>\n",
              "      <td>female</td>\n",
              "      <td>False</td>\n",
              "      <td>9</td>\n",
              "      <td>True</td>\n",
              "      <td>13</td>\n",
              "      <td>Government Officer</td>\n",
              "      <td>81</td>\n",
              "      <td>97</td>\n",
              "      <td>95</td>\n",
              "      <td>96</td>\n",
              "      <td>65</td>\n",
              "      <td>77</td>\n",
              "      <td>94</td>\n",
              "      <td>605</td>\n",
              "      <td>86.428571</td>\n",
              "    </tr>\n",
              "    <tr>\n",
              "      <th>3</th>\n",
              "      <td>female</td>\n",
              "      <td>False</td>\n",
              "      <td>5</td>\n",
              "      <td>False</td>\n",
              "      <td>3</td>\n",
              "      <td>Artist</td>\n",
              "      <td>71</td>\n",
              "      <td>74</td>\n",
              "      <td>88</td>\n",
              "      <td>80</td>\n",
              "      <td>89</td>\n",
              "      <td>63</td>\n",
              "      <td>86</td>\n",
              "      <td>551</td>\n",
              "      <td>78.714286</td>\n",
              "    </tr>\n",
              "    <tr>\n",
              "      <th>4</th>\n",
              "      <td>male</td>\n",
              "      <td>False</td>\n",
              "      <td>5</td>\n",
              "      <td>False</td>\n",
              "      <td>10</td>\n",
              "      <td>Unknown</td>\n",
              "      <td>84</td>\n",
              "      <td>77</td>\n",
              "      <td>65</td>\n",
              "      <td>65</td>\n",
              "      <td>80</td>\n",
              "      <td>74</td>\n",
              "      <td>76</td>\n",
              "      <td>521</td>\n",
              "      <td>74.428571</td>\n",
              "    </tr>\n",
              "  </tbody>\n",
              "</table>\n",
              "</div>"
            ],
            "text/plain": [
              "   gender  part_time_job  absence_days  extracurricular_activities  \\\n",
              "0    male          False             3                       False   \n",
              "1  female          False             2                       False   \n",
              "2  female          False             9                        True   \n",
              "3  female          False             5                       False   \n",
              "4    male          False             5                       False   \n",
              "\n",
              "   weekly_self_study_hours   career_aspiration  math_score  history_score  \\\n",
              "0                       27              Lawyer          73             81   \n",
              "1                       47              Doctor          90             86   \n",
              "2                       13  Government Officer          81             97   \n",
              "3                        3              Artist          71             74   \n",
              "4                       10             Unknown          84             77   \n",
              "\n",
              "   physics_score  chemistry_score  biology_score  english_score  \\\n",
              "0             93               97             63             80   \n",
              "1             96              100             90             88   \n",
              "2             95               96             65             77   \n",
              "3             88               80             89             63   \n",
              "4             65               65             80             74   \n",
              "\n",
              "   geography_score  total_score  average_score  \n",
              "0               87          574      82.000000  \n",
              "1               90          640      91.428571  \n",
              "2               94          605      86.428571  \n",
              "3               86          551      78.714286  \n",
              "4               76          521      74.428571  "
            ]
          },
          "execution_count": 53,
          "metadata": {},
          "output_type": "execute_result"
        }
      ],
      "source": [
        "Dataframe['total_score'] = Dataframe['math_score'] + Dataframe['history_score'] + Dataframe['physics_score'] + Dataframe['chemistry_score'] + Dataframe['biology_score'] + Dataframe['english_score'] + Dataframe['geography_score']\n",
        "Dataframe['average_score'] = Dataframe['total_score'] / 7\n",
        "Dataframe.head()"
      ]
    },
    {
      "cell_type": "code",
      "execution_count": 54,
      "metadata": {
        "colab": {
          "base_uri": "https://localhost:8080/"
        },
        "id": "8ZAwrbMCkSx1",
        "outputId": "a5c93762-1bee-434f-e578-d2ddf620f869"
      },
      "outputs": [
        {
          "data": {
            "text/plain": [
              "career_aspiration\n",
              "Software Engineer        315\n",
              "Business Owner           309\n",
              "Unknown                  223\n",
              "Banker                   169\n",
              "Lawyer                   138\n",
              "Accountant               126\n",
              "Doctor                   119\n",
              "Real Estate Developer     83\n",
              "Stock Investor            73\n",
              "Construction Engineer     68\n",
              "Artist                    67\n",
              "Game Developer            63\n",
              "Government Officer        61\n",
              "Teacher                   59\n",
              "Designer                  56\n",
              "Scientist                 39\n",
              "Writer                    32\n",
              "Name: count, dtype: int64"
            ]
          },
          "execution_count": 54,
          "metadata": {},
          "output_type": "execute_result"
        }
      ],
      "source": [
        "Dataframe['career_aspiration'].value_counts()\n"
      ]
    },
    {
      "cell_type": "code",
      "execution_count": 55,
      "metadata": {
        "colab": {
          "base_uri": "https://localhost:8080/"
        },
        "id": "Sv2RWyFAkW8E",
        "outputId": "2976e1b1-d6e5-45b0-f40e-e306579a0569"
      },
      "outputs": [
        {
          "data": {
            "text/plain": [
              "17"
            ]
          },
          "execution_count": 55,
          "metadata": {},
          "output_type": "execute_result"
        }
      ],
      "source": [
        "len(Dataframe['career_aspiration'].unique())"
      ]
    },
    {
      "cell_type": "code",
      "execution_count": 56,
      "metadata": {
        "id": "ufvhzuB_kdM3"
      },
      "outputs": [],
      "source": [
        "cols = ['gender','part_time_job','extracurricular_activities', 'career_aspiration']\n",
        "for col in cols:\n",
        "    Dataframe[col] = LabelEncoder().fit_transform(Dataframe[col])"
      ]
    },
    {
      "cell_type": "code",
      "execution_count": 57,
      "metadata": {
        "colab": {
          "base_uri": "https://localhost:8080/"
        },
        "id": "t1ppVpqfkdLT",
        "outputId": "c2346a75-a641-4137-996c-c29047c9ee36"
      },
      "outputs": [
        {
          "data": {
            "text/plain": [
              "career_aspiration\n",
              "12    315\n",
              "3     309\n",
              "15    223\n",
              "2     169\n",
              "9     138\n",
              "0     126\n",
              "6     119\n",
              "10     83\n",
              "13     73\n",
              "4      68\n",
              "1      67\n",
              "7      63\n",
              "8      61\n",
              "14     59\n",
              "5      56\n",
              "11     39\n",
              "16     32\n",
              "Name: count, dtype: int64"
            ]
          },
          "execution_count": 57,
          "metadata": {},
          "output_type": "execute_result"
        }
      ],
      "source": [
        "Dataframe['career_aspiration'].value_counts()"
      ]
    },
    {
      "cell_type": "code",
      "execution_count": 58,
      "metadata": {
        "colab": {
          "base_uri": "https://localhost:8080/",
          "height": 226
        },
        "id": "srarfNuTpqSS",
        "outputId": "a9c9880c-dc72-4d32-b005-759202ece31b"
      },
      "outputs": [
        {
          "data": {
            "text/html": [
              "<div>\n",
              "<style scoped>\n",
              "    .dataframe tbody tr th:only-of-type {\n",
              "        vertical-align: middle;\n",
              "    }\n",
              "\n",
              "    .dataframe tbody tr th {\n",
              "        vertical-align: top;\n",
              "    }\n",
              "\n",
              "    .dataframe thead th {\n",
              "        text-align: right;\n",
              "    }\n",
              "</style>\n",
              "<table border=\"1\" class=\"dataframe\">\n",
              "  <thead>\n",
              "    <tr style=\"text-align: right;\">\n",
              "      <th></th>\n",
              "      <th>gender</th>\n",
              "      <th>part_time_job</th>\n",
              "      <th>absence_days</th>\n",
              "      <th>extracurricular_activities</th>\n",
              "      <th>weekly_self_study_hours</th>\n",
              "      <th>career_aspiration</th>\n",
              "      <th>math_score</th>\n",
              "      <th>history_score</th>\n",
              "      <th>physics_score</th>\n",
              "      <th>chemistry_score</th>\n",
              "      <th>biology_score</th>\n",
              "      <th>english_score</th>\n",
              "      <th>geography_score</th>\n",
              "      <th>total_score</th>\n",
              "      <th>average_score</th>\n",
              "    </tr>\n",
              "  </thead>\n",
              "  <tbody>\n",
              "    <tr>\n",
              "      <th>0</th>\n",
              "      <td>1</td>\n",
              "      <td>0</td>\n",
              "      <td>-0.253175</td>\n",
              "      <td>0</td>\n",
              "      <td>0.762334</td>\n",
              "      <td>9</td>\n",
              "      <td>-0.790525</td>\n",
              "      <td>0.052463</td>\n",
              "      <td>0.930377</td>\n",
              "      <td>1.331147</td>\n",
              "      <td>-1.208673</td>\n",
              "      <td>-0.106245</td>\n",
              "      <td>0.525321</td>\n",
              "      <td>0.168795</td>\n",
              "      <td>0.168795</td>\n",
              "    </tr>\n",
              "    <tr>\n",
              "      <th>1</th>\n",
              "      <td>0</td>\n",
              "      <td>0</td>\n",
              "      <td>-0.633604</td>\n",
              "      <td>0</td>\n",
              "      <td>2.411605</td>\n",
              "      <td>6</td>\n",
              "      <td>0.495250</td>\n",
              "      <td>0.445147</td>\n",
              "      <td>1.169682</td>\n",
              "      <td>1.565986</td>\n",
              "      <td>0.759435</td>\n",
              "      <td>0.559086</td>\n",
              "      <td>0.783168</td>\n",
              "      <td>1.729633</td>\n",
              "      <td>1.729633</td>\n",
              "    </tr>\n",
              "    <tr>\n",
              "      <th>2</th>\n",
              "      <td>0</td>\n",
              "      <td>0</td>\n",
              "      <td>2.029397</td>\n",
              "      <td>1</td>\n",
              "      <td>-0.392155</td>\n",
              "      <td>8</td>\n",
              "      <td>-0.185454</td>\n",
              "      <td>1.309054</td>\n",
              "      <td>1.089913</td>\n",
              "      <td>1.252867</td>\n",
              "      <td>-1.062888</td>\n",
              "      <td>-0.355744</td>\n",
              "      <td>1.126964</td>\n",
              "      <td>0.901916</td>\n",
              "      <td>0.901916</td>\n",
              "    </tr>\n",
              "    <tr>\n",
              "      <th>3</th>\n",
              "      <td>0</td>\n",
              "      <td>0</td>\n",
              "      <td>0.507682</td>\n",
              "      <td>0</td>\n",
              "      <td>-1.216791</td>\n",
              "      <td>1</td>\n",
              "      <td>-0.941792</td>\n",
              "      <td>-0.497296</td>\n",
              "      <td>0.531536</td>\n",
              "      <td>0.000391</td>\n",
              "      <td>0.686542</td>\n",
              "      <td>-1.520075</td>\n",
              "      <td>0.439372</td>\n",
              "      <td>-0.375133</td>\n",
              "      <td>-0.375133</td>\n",
              "    </tr>\n",
              "    <tr>\n",
              "      <th>4</th>\n",
              "      <td>1</td>\n",
              "      <td>0</td>\n",
              "      <td>0.507682</td>\n",
              "      <td>0</td>\n",
              "      <td>-0.639546</td>\n",
              "      <td>15</td>\n",
              "      <td>0.041447</td>\n",
              "      <td>-0.261685</td>\n",
              "      <td>-1.303134</td>\n",
              "      <td>-1.173804</td>\n",
              "      <td>0.030506</td>\n",
              "      <td>-0.605244</td>\n",
              "      <td>-0.420119</td>\n",
              "      <td>-1.084605</td>\n",
              "      <td>-1.084605</td>\n",
              "    </tr>\n",
              "  </tbody>\n",
              "</table>\n",
              "</div>"
            ],
            "text/plain": [
              "   gender  part_time_job  absence_days  extracurricular_activities  \\\n",
              "0       1              0     -0.253175                           0   \n",
              "1       0              0     -0.633604                           0   \n",
              "2       0              0      2.029397                           1   \n",
              "3       0              0      0.507682                           0   \n",
              "4       1              0      0.507682                           0   \n",
              "\n",
              "   weekly_self_study_hours  career_aspiration  math_score  history_score  \\\n",
              "0                 0.762334                  9   -0.790525       0.052463   \n",
              "1                 2.411605                  6    0.495250       0.445147   \n",
              "2                -0.392155                  8   -0.185454       1.309054   \n",
              "3                -1.216791                  1   -0.941792      -0.497296   \n",
              "4                -0.639546                 15    0.041447      -0.261685   \n",
              "\n",
              "   physics_score  chemistry_score  biology_score  english_score  \\\n",
              "0       0.930377         1.331147      -1.208673      -0.106245   \n",
              "1       1.169682         1.565986       0.759435       0.559086   \n",
              "2       1.089913         1.252867      -1.062888      -0.355744   \n",
              "3       0.531536         0.000391       0.686542      -1.520075   \n",
              "4      -1.303134        -1.173804       0.030506      -0.605244   \n",
              "\n",
              "   geography_score  total_score  average_score  \n",
              "0         0.525321     0.168795       0.168795  \n",
              "1         0.783168     1.729633       1.729633  \n",
              "2         1.126964     0.901916       0.901916  \n",
              "3         0.439372    -0.375133      -0.375133  \n",
              "4        -0.420119    -1.084605      -1.084605  "
            ]
          },
          "execution_count": 58,
          "metadata": {},
          "output_type": "execute_result"
        }
      ],
      "source": [
        "score_columns = ['absence_days','weekly_self_study_hours','math_score', 'history_score', 'physics_score', 'chemistry_score', 'biology_score', 'english_score', 'geography_score','total_score','average_score']\n",
        "scaler = StandardScaler()\n",
        "Dataframe[score_columns] = scaler.fit_transform(Dataframe[score_columns])\n",
        "Dataframe.head()\n"
      ]
    },
    {
      "cell_type": "code",
      "execution_count": 59,
      "metadata": {
        "id": "15J4RRbslXS5"
      },
      "outputs": [],
      "source": [
        "from imblearn.over_sampling import SMOTE\n",
        "\n",
        "smote = SMOTE(random_state = 98)\n",
        "\n",
        "X = Dataframe.drop(\"career_aspiration\", axis=1)\n",
        "y = Dataframe['career_aspiration']\n",
        "\n",
        "X_resampled ,  y_resampled = smote.fit_resample(X,y)"
      ]
    },
    {
      "cell_type": "code",
      "execution_count": 60,
      "metadata": {
        "id": "HM0_iaawlh-Q"
      },
      "outputs": [],
      "source": [
        "X_train, X_test, y_train, y_test = train_test_split(X_resampled, y_resampled, test_size= 0.2, random_state=98)"
      ]
    },
    {
      "cell_type": "code",
      "execution_count": 61,
      "metadata": {
        "id": "L0ccYZIMlu0-"
      },
      "outputs": [],
      "source": [
        "scaler=StandardScaler()\n",
        "\n",
        "X_train_scaled = scaler.fit_transform(X_train)\n",
        "X_test_scaled = scaler.transform(X_test)"
      ]
    },
    {
      "cell_type": "code",
      "execution_count": 62,
      "metadata": {
        "colab": {
          "base_uri": "https://localhost:8080/"
        },
        "id": "9UAYIIeWluzA",
        "outputId": "8e4ddd6b-e125-40fb-ae85-49cd5a0c34ff"
      },
      "outputs": [
        {
          "data": {
            "text/plain": [
              "0.8543417366946778"
            ]
          },
          "execution_count": 62,
          "metadata": {},
          "output_type": "execute_result"
        }
      ],
      "source": [
        "classifier=RandomForestClassifier()\n",
        "classifier.fit(X_train,y_train)\n",
        "y_pred = classifier.predict(X_test)\n",
        "accuracy = accuracy_score(y_test,y_pred)\n",
        "accuracy"
      ]
    },
    {
      "cell_type": "code",
      "execution_count": 71,
      "metadata": {},
      "outputs": [
        {
          "data": {
            "text/plain": [
              "8.180205415499533"
            ]
          },
          "execution_count": 71,
          "metadata": {},
          "output_type": "execute_result"
        }
      ],
      "source": [
        "mse = mean_squared_error(y_test,y_pred)\n",
        "mse"
      ]
    },
    {
      "cell_type": "code",
      "execution_count": 63,
      "metadata": {
        "colab": {
          "base_uri": "https://localhost:8080/"
        },
        "id": "2zfnXSq5mw72",
        "outputId": "73cd6808-2c53-48bf-f31c-960d595aa5d6"
      },
      "outputs": [
        {
          "name": "stdout",
          "output_type": "stream",
          "text": [
            "              precision    recall  f1-score   support\n",
            "\n",
            "           0       0.92      0.89      0.90        61\n",
            "           1       0.85      0.90      0.88        70\n",
            "           2       0.75      0.77      0.76        66\n",
            "           3       0.92      0.90      0.91        67\n",
            "           4       0.76      0.99      0.86        71\n",
            "           5       0.96      0.79      0.87        68\n",
            "           6       0.89      0.98      0.93        48\n",
            "           7       0.84      0.94      0.89        70\n",
            "           8       0.87      0.96      0.92        56\n",
            "           9       0.79      0.84      0.81        67\n",
            "          10       0.90      0.86      0.88        65\n",
            "          11       0.92      0.96      0.94        70\n",
            "          12       0.58      0.32      0.42        68\n",
            "          13       0.93      0.80      0.86        54\n",
            "          14       0.92      0.97      0.94        70\n",
            "          15       0.71      0.66      0.68        41\n",
            "          16       0.93      0.97      0.95        59\n",
            "\n",
            "    accuracy                           0.85      1071\n",
            "   macro avg       0.85      0.85      0.85      1071\n",
            "weighted avg       0.85      0.85      0.85      1071\n",
            "\n"
          ]
        }
      ],
      "source": [
        "print(classification_report(y_test, y_pred))"
      ]
    },
    {
      "cell_type": "code",
      "execution_count": 64,
      "metadata": {
        "id": "NrdGjngqmw53"
      },
      "outputs": [
        {
          "name": "stdout",
          "output_type": "stream",
          "text": [
            "[[54  0  2  0  0  0  0  0  0  1  0  0  3  0  0  1  0]\n",
            " [ 0 63  0  1  0  0  0  3  0  0  3  0  0  0  0  0  0]\n",
            " [ 0  0 51  0  3  0  0  0  1  5  0  0  4  0  1  1  0]\n",
            " [ 0  1  0 60  0  0  0  3  0  0  3  0  0  0  0  0  0]\n",
            " [ 0  0  0  0 70  0  0  0  0  0  0  0  1  0  0  0  0]\n",
            " [ 0  1  1  1  0 54  0  2  4  0  0  0  1  0  2  2  0]\n",
            " [ 0  0  0  0  0  0 47  0  0  0  0  1  0  0  0  0  0]\n",
            " [ 0  4  0  0  0  0  0 66  0  0  0  0  0  0  0  0  0]\n",
            " [ 0  0  0  0  0  0  0  2 54  0  0  0  0  0  0  0  0]\n",
            " [ 0  0  0  0  0  0  1  0  0 56  0  0  3  2  0  3  2]\n",
            " [ 0  0  0  3  0  1  0  2  2  0 56  0  0  0  1  0  0]\n",
            " [ 0  0  0  0  2  0  0  0  0  1  0 67  0  0  0  0  0]\n",
            " [ 3  0 11  0 14  1  4  0  0  7  0  3 22  1  0  1  1]\n",
            " [ 1  0  1  0  1  0  1  1  0  0  0  0  2 43  1  3  0]\n",
            " [ 0  0  0  0  0  0  0  0  1  0  0  0  0  0 68  0  1]\n",
            " [ 1  5  1  0  1  0  0  0  0  1  0  2  2  0  1 27  0]\n",
            " [ 0  0  1  0  1  0  0  0  0  0  0  0  0  0  0  0 57]]\n"
          ]
        }
      ],
      "source": [
        "print(confusion_matrix(y_test,y_pred))"
      ]
    },
    {
      "cell_type": "code",
      "execution_count": 65,
      "metadata": {},
      "outputs": [],
      "source": [
        "import pickle\n",
        "\n",
        "# pickle.dump(classifier, open('model.pkl','wb'))       #model.pkl is not required to be overridden again"
      ]
    },
    {
      "cell_type": "code",
      "execution_count": 66,
      "metadata": {},
      "outputs": [],
      "source": [
        "model = pickle.load(open(\"model.pkl\", 'rb'))\n"
      ]
    },
    {
      "cell_type": "code",
      "execution_count": 67,
      "metadata": {},
      "outputs": [],
      "source": [
        "professions = [\n",
        "    \"Accountant\",\n",
        "    \"Artist\",\n",
        "    \"Banker\",\n",
        "    \"Business Owner\",\n",
        "    \"Construction Engineer\",\n",
        "    \"Designer\",\n",
        "    \"Doctor\",\n",
        "    \"Game Developer\",\n",
        "    \"Government Officer\",\n",
        "    \"Lawyer\",\n",
        "    \"Real Estate Developer\",\n",
        "    \"Scientist\",\n",
        "    \"Software Engineer\",\n",
        "    \"Stock Investor\",\n",
        "    \"Teacher\",\n",
        "    \"Unknown\",\n",
        "    \"Writer\"\n",
        "]"
      ]
    },
    {
      "cell_type": "code",
      "execution_count": 68,
      "metadata": {},
      "outputs": [],
      "source": [
        "def recommendation(gender, part_time_job, absence_days, extracurricular_activities,\n",
        "       weekly_self_study_hour, math_score,history_score, physics_score, chemistry_score, biology_score,\n",
        "       english_score, geography_score, total_score, average_score):\n",
        "    gender_encoded = 1 if gender.lower() =='male' else 0\n",
        "    part_time_job_encoded = 1 if part_time_job else 0\n",
        "    extracurricular_activities_encoded = 1 if extracurricular_activities else 0\n",
        "    \n",
        "    feature_array = np.array([[gender_encoded, part_time_job_encoded, absence_days, extracurricular_activities_encoded,\n",
        "                               weekly_self_study_hour, math_score, history_score, physics_score, chemistry_score,\n",
        "                               biology_score, english_score, geography_score, total_score, average_score]])\n",
        "    \n",
        "    probabilities = model.predict_proba(feature_array)\n",
        "    top_classes_idx = np.argsort(-probabilities[0])[:5]\n",
        "    top_classes_names_probs = [(professions[idx], probabilities[0][idx]) for idx in top_classes_idx]\n",
        "    return top_classes_names_probs"
      ]
    },
    {
      "cell_type": "code",
      "execution_count": 69,
      "metadata": {},
      "outputs": [
        {
          "name": "stdout",
          "output_type": "stream",
          "text": [
            "Top Recommendations\n",
            "--------------------------------------------------\n",
            "Doctor with probability 76.0\n",
            "Writer with probability 4.0\n",
            "Unknown with probability 4.0\n",
            "Software Engineer with probability 3.0\n",
            "Lawyer with probability 3.0\n"
          ]
        }
      ],
      "source": [
        "gender = 'female'  \n",
        "part_time_job = True\n",
        "absence_days = 2\n",
        "extracurricular_activities = False  \n",
        "weekly_self_study_hour = 4\n",
        "math_score = 67\n",
        "history_score = 50\n",
        "physics_score = 67\n",
        "chemistry_score = 56\n",
        "biology_score = 40\n",
        "english_score = 80\n",
        "geography_score = 0\n",
        "total_score = 583\n",
        "average_score = 83.2456\n",
        "\n",
        "final_recommendation = recommendation(gender, part_time_job, absence_days, extracurricular_activities,\n",
        "                                      weekly_self_study_hour, math_score, history_score, physics_score,\n",
        "                                      chemistry_score, biology_score, english_score, geography_score,\n",
        "                                      total_score, average_score)\n",
        "\n",
        "# Print the top recommendations\n",
        "print(\"Top Recommendations\")\n",
        "print(\"-\" * 50)\n",
        "for name, prob in final_recommendation:\n",
        "    print(f\"{name} with probability {prob*100}\")"
      ]
    }
  ],
  "metadata": {
    "colab": {
      "provenance": []
    },
    "kernelspec": {
      "display_name": "Python 3",
      "name": "python3"
    },
    "language_info": {
      "codemirror_mode": {
        "name": "ipython",
        "version": 3
      },
      "file_extension": ".py",
      "mimetype": "text/x-python",
      "name": "python",
      "nbconvert_exporter": "python",
      "pygments_lexer": "ipython3",
      "version": "3.12.4"
    }
  },
  "nbformat": 4,
  "nbformat_minor": 0
}
