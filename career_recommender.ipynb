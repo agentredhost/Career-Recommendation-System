{
 "cells": [
  {
   "cell_type": "code",
   "execution_count": 2,
   "metadata": {},
   "outputs": [],
   "source": [
    "import pickle\n",
    "import numpy as np\n",
    "import warnings\n",
    "warnings.filterwarnings(\"ignore\")\n",
    "model = pickle.load(open(\"model.pkl\", 'rb'))\n"
   ]
  },
  {
   "cell_type": "code",
   "execution_count": 3,
   "metadata": {},
   "outputs": [],
   "source": [
    "professions = [\n",
    "    \"Accountant\",\n",
    "    \"Artist\",\n",
    "    \"Banker\",\n",
    "    \"Business Owner\",\n",
    "    \"Construction Engineer\",\n",
    "    \"Designer\",\n",
    "    \"Doctor\",\n",
    "    \"Game Developer\",\n",
    "    \"Government Officer\",\n",
    "    \"Lawyer\",\n",
    "    \"Real Estate Developer\",\n",
    "    \"Scientist\",\n",
    "    \"Software Engineer\",\n",
    "    \"Stock Investor\",\n",
    "    \"Teacher\",\n",
    "    \"Unknown\",\n",
    "    \"Writer\"\n",
    "]"
   ]
  },
  {
   "cell_type": "code",
   "execution_count": 4,
   "metadata": {},
   "outputs": [],
   "source": [
    "def recommendation(gender, part_time_job, absence_days, extracurricular_activities,\n",
    "       weekly_self_study_hour, math_score,history_score, physics_score, chemistry_score, biology_score,\n",
    "       english_score, geography_score, total_score, average_score):\n",
    "    gender_encoded = 1 if gender.lower() =='male' else 0\n",
    "    part_time_job_encoded = 1 if part_time_job else 0\n",
    "    extracurricular_activities_encoded = 1 if extracurricular_activities else 0\n",
    "    \n",
    "    feature_array = np.array([[gender_encoded, part_time_job_encoded, absence_days, extracurricular_activities_encoded,\n",
    "                               weekly_self_study_hour, math_score, history_score, physics_score, chemistry_score,\n",
    "                               biology_score, english_score, geography_score, total_score, average_score]])\n",
    "    \n",
    "    probabilities = model.predict_proba(feature_array)\n",
    "    top_classes_idx = np.argsort(-probabilities[0])[:5]\n",
    "    top_classes_names_probs = [(professions[idx], probabilities[0][idx]) for idx in top_classes_idx]\n",
    "    return top_classes_names_probs"
   ]
  },
  {
   "cell_type": "code",
   "execution_count": 5,
   "metadata": {},
   "outputs": [
    {
     "name": "stdout",
     "output_type": "stream",
     "text": [
      "Top Recommendations\n",
      "--------------------------------------------------\n",
      "Doctor with probability 69.0\n",
      "Scientist with probability 6.0\n",
      "Unknown with probability 6.0\n",
      "Banker with probability 5.0\n",
      "Business Owner with probability 4.0\n"
     ]
    },
    {
     "name": "stderr",
     "output_type": "stream",
     "text": [
      "c:\\Python312\\Lib\\site-packages\\sklearn\\base.py:493: UserWarning: X does not have valid feature names, but RandomForestClassifier was fitted with feature names\n",
      "  warnings.warn(\n"
     ]
    }
   ],
   "source": [
    "gender = 'female'  \n",
    "part_time_job = True\n",
    "absence_days = 2\n",
    "extracurricular_activities = False  \n",
    "weekly_self_study_hour = 4\n",
    "math_score = 67\n",
    "history_score = 50\n",
    "physics_score = 67\n",
    "chemistry_score = 56\n",
    "biology_score = 40\n",
    "english_score = 80\n",
    "geography_score = 0\n",
    "total_score = 583\n",
    "average_score = 83.2456\n",
    "\n",
    "final_recommendation = recommendation(gender, part_time_job, absence_days, extracurricular_activities,\n",
    "                                      weekly_self_study_hour, math_score, history_score, physics_score,\n",
    "                                      chemistry_score, biology_score, english_score, geography_score,\n",
    "                                      total_score, average_score)\n",
    "\n",
    "# Print the top recommendations\n",
    "print(\"Top Recommendations\")\n",
    "print(\"-\" * 50)\n",
    "for name, prob in final_recommendation:\n",
    "    print(f\"{name} with probability {prob*100}\")"
   ]
  }
 ],
 "metadata": {
  "kernelspec": {
   "display_name": "Python 3",
   "language": "python",
   "name": "python3"
  },
  "language_info": {
   "codemirror_mode": {
    "name": "ipython",
    "version": 3
   },
   "file_extension": ".py",
   "mimetype": "text/x-python",
   "name": "python",
   "nbconvert_exporter": "python",
   "pygments_lexer": "ipython3",
   "version": "3.12.4"
  }
 },
 "nbformat": 4,
 "nbformat_minor": 2
}
